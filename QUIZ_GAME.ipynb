{
  "nbformat": 4,
  "nbformat_minor": 0,
  "metadata": {
    "colab": {
      "provenance": [],
      "authorship_tag": "ABX9TyNfQMkk9fegkvZtpWumbZpy",
      "include_colab_link": true
    },
    "kernelspec": {
      "name": "python3",
      "display_name": "Python 3"
    },
    "language_info": {
      "name": "python"
    }
  },
  "cells": [
    {
      "cell_type": "markdown",
      "metadata": {
        "id": "view-in-github",
        "colab_type": "text"
      },
      "source": [
        "<a href=\"https://colab.research.google.com/github/Yaswanthgangireddy/QUIZ-GAME/blob/main/QUIZ_GAME.ipynb\" target=\"_parent\"><img src=\"https://colab.research.google.com/assets/colab-badge.svg\" alt=\"Open In Colab\"/></a>"
      ]
    },
    {
      "cell_type": "code",
      "execution_count": null,
      "metadata": {
        "colab": {
          "base_uri": "https://localhost:8080/"
        },
        "id": "G7CA_oeAbrk0",
        "outputId": "28b98684-5c0a-4f31-f80c-de02e501add5"
      },
      "outputs": [
        {
          "output_type": "stream",
          "name": "stdout",
          "text": [
            "python3: can't open file '/content/quiz_game.py': [Errno 2] No such file or directory\n"
          ]
        }
      ],
      "source": [
        "!python quiz_game.py"
      ]
    },
    {
      "cell_type": "code",
      "source": [
        "def run_quiz():\n",
        "    questions = [\n",
        "        {\n",
        "            \"question\": \"What is the capital of France?\",\n",
        "            \"options\": [\"A) Paris\", \"B) London\", \"C) Berlin\", \"D) Rome\"],\n",
        "            \"answer\": \"A\"\n",
        "        },\n",
        "        {\n",
        "            \"question\": \"Which planet is known as the Red Planet?\",\n",
        "            \"options\": [\"A) Earth\", \"B) Mars\", \"C) Jupiter\", \"D) Venus\"],\n",
        "            \"answer\": \"B\"\n",
        "        },\n",
        "        {\n",
        "            \"question\": \"Who wrote 'Hamlet'?\",\n",
        "            \"options\": [\"A) Charles Dickens\", \"B) William Shakespeare\", \"C) Mark Twain\", \"D) Leo Tolstoy\"],\n",
        "            \"answer\": \"B\"\n",
        "        }\n",
        "    ]\n",
        "\n",
        "    score = 0\n",
        "    total = len(questions)\n",
        "\n",
        "    for i, q in enumerate(questions, 1):\n",
        "        print(f\"\\nQuestion {i}: {q['question']}\")\n",
        "        for option in q[\"options\"]:\n",
        "            print(option)\n",
        "        answer = input(\"Your answer (A/B/C/D): \").strip().upper()\n",
        "\n",
        "        if answer == q[\"answer\"]:\n",
        "            print(\"Correct!\")\n",
        "            score += 1\n",
        "        else:\n",
        "            print(f\"Wrong! The correct answer was {q['answer']}.\")\n",
        "\n",
        "    print(f\"\\nQuiz completed! Your score: {score}/{total}\")\n",
        "    if score == total:\n",
        "        print(\"Excellent! You got all correct!\")\n",
        "    elif score >= total / 2:\n",
        "        print(\"Good job! You passed.\")\n",
        "    else:\n",
        "        print(\"Better luck next time!\")\n",
        "\n",
        "if __name__ == \"__main__\":\n",
        "    run_quiz()\n"
      ],
      "metadata": {
        "id": "j7oBC5aTTpsO",
        "outputId": "c171564b-16c0-43d0-959a-598e471f1cd4",
        "colab": {
          "base_uri": "https://localhost:8080/"
        }
      },
      "execution_count": null,
      "outputs": [
        {
          "output_type": "stream",
          "name": "stdout",
          "text": [
            "\n",
            "Question 1: What is the capital of France?\n",
            "A) Paris\n",
            "B) London\n",
            "C) Berlin\n",
            "D) Rome\n",
            "Your answer (A/B/C/D): A\n",
            "Correct!\n",
            "\n",
            "Question 2: Which planet is known as the Red Planet?\n",
            "A) Earth\n",
            "B) Mars\n",
            "C) Jupiter\n",
            "D) Venus\n",
            "Your answer (A/B/C/D): B\n",
            "Correct!\n",
            "\n",
            "Question 3: Who wrote 'Hamlet'?\n",
            "A) Charles Dickens\n",
            "B) William Shakespeare\n",
            "C) Mark Twain\n",
            "D) Leo Tolstoy\n",
            "Your answer (A/B/C/D): B\n",
            "Correct!\n",
            "\n",
            "Quiz completed! Your score: 3/3\n",
            "Excellent! You got all correct!\n"
          ]
        }
      ]
    }
  ]
}